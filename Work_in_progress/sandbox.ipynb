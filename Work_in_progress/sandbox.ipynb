{
 "cells": [
  {
   "cell_type": "code",
   "execution_count": 59,
   "metadata": {},
   "outputs": [],
   "source": [
    "import matplotlib as plt\n",
    "import util\n",
    "import PIL\n",
    "from PIL import Image\n",
    "import tensorflow as tf\n",
    "import numpy as np\n",
    "\n",
    "from matplotlib.pyplot import imshow\n",
    "import matplotlib.image as mpimg\n",
    "\n",
    "from six.moves import cPickle as pickle\n",
    "from six.moves import xrange \n",
    "\n",
    "%matplotlib inline\n",
    "\n",
    "IMAGE_SHAPE=[32,32,3]\n",
    "NUM_CLASSES=10"
   ]
  },
  {
   "cell_type": "code",
   "execution_count": 60,
   "metadata": {},
   "outputs": [],
   "source": [
    "def _parse(example_proto, augment):\n",
    "  features = tf.parse_single_example(\n",
    "        example_proto,\n",
    "        features={\n",
    "            'image': tf.FixedLenFeature([], tf.string),\n",
    "            'label': tf.FixedLenFeature([], tf.int64),\n",
    "        })\n",
    "  image = tf.decode_raw(features['image'], tf.uint8)\n",
    "  #image = tf.cast(image, tf.float32)\n",
    "  #image = scale_image(image)\n",
    "  image = tf.reshape(image, IMAGE_SHAPE)\n",
    "  \n",
    "  #if augment:\n",
    "  #    # Pad 4 pixels on each dimension of feature map, done in mini-batch\n",
    "  #    image = tf.image.resize_image_with_crop_or_pad(image, 40, 40)\n",
    "  #    image = tf.random_crop(image, IMAGE_SHAPE)\n",
    "  #    image = tf.image.random_flip_left_right(image)\n",
    "\n",
    "     \n",
    "  label = features['label']\n",
    "  label = tf.one_hot(label, NUM_CLASSES)\n",
    "  \n",
    "  return image, label\n"
   ]
  },
  {
   "cell_type": "code",
   "execution_count": 61,
   "metadata": {},
   "outputs": [],
   "source": [
    "def input_fn(filename, train, batch_size, buffer_size=10000):\n",
    "  \n",
    "  if train:\n",
    "    rep = None \n",
    "    augment = True\n",
    "  else:\n",
    "    rep = 1\n",
    "    augment = False\n",
    "\n",
    "  # Open a file\n",
    "  dataset = tf.data.TFRecordDataset(filename)\n",
    "  dataset = dataset.repeat(rep)\n",
    "  # Parse records\n",
    "  parse = lambda x: _parse(x, augment)\n",
    "  dataset = dataset.map(parse)\n",
    "  #if train:\n",
    "  #      dataset = dataset.shuffle(buffer_size)\n",
    "      \n",
    "  dataset = dataset.batch(batch_size)\n",
    "  #\n",
    "  iterator = dataset.make_one_shot_iterator()\n",
    "  image_batch, label_batch = iterator.get_next()\n",
    "  \n",
    "  return {'images': image_batch}, label_batch\n"
   ]
  },
  {
   "cell_type": "code",
   "execution_count": 62,
   "metadata": {},
   "outputs": [
    {
     "name": "stdout",
     "output_type": "stream",
     "text": [
      "Tensor(\"IteratorGetNext_5:0\", shape=(?, 32, 32, 3), dtype=uint8)\n"
     ]
    }
   ],
   "source": [
    "filename = '../cifar10-data/train.tfrecords'\n",
    "\n",
    "images_dict, labels = input_fn(filename, False, 2)\n",
    "\n",
    "images = images_dict['images']\n",
    "\n",
    "print(images)"
   ]
  },
  {
   "cell_type": "code",
   "execution_count": 63,
   "metadata": {},
   "outputs": [],
   "source": [
    "with tf.Session() as sess:\n",
    "    image = sess.run(images)"
   ]
  },
  {
   "cell_type": "code",
   "execution_count": 64,
   "metadata": {},
   "outputs": [
    {
     "name": "stdout",
     "output_type": "stream",
     "text": [
      "(2, 32, 32, 3)\n"
     ]
    }
   ],
   "source": [
    "print(image.shape)"
   ]
  },
  {
   "cell_type": "code",
   "execution_count": 65,
   "metadata": {},
   "outputs": [
    {
     "name": "stdout",
     "output_type": "stream",
     "text": [
      "[[[154 126 105]\n",
      "  [102 125 155]\n",
      "  [172 180 142]\n",
      "  ...\n",
      "  [ 88 103  94]\n",
      "  [ 65  83  90]\n",
      "  [ 79  68  67]]\n",
      "\n",
      " [[136 137 122]\n",
      "  [132 151 181]\n",
      "  [203 208 208]\n",
      "  ...\n",
      "  [ 92  88  78]\n",
      "  [ 87  98  76]\n",
      "  [ 67  81  91]]\n",
      "\n",
      " [[146 124  88]\n",
      "  [ 85  87  84]\n",
      "  [ 75  78  69]\n",
      "  ...\n",
      "  [169 113  89]\n",
      "  [ 84  65  56]\n",
      "  [ 88  81  63]]\n",
      "\n",
      " ...\n",
      "\n",
      " [[158  83  55]\n",
      "  [ 46  51  52]\n",
      "  [ 48  46  57]\n",
      "  ...\n",
      "  [134 121  61]\n",
      "  [ 51  33  21]\n",
      "  [ 53  51 107]]\n",
      "\n",
      " [[172 166 123]\n",
      "  [140 160 155]\n",
      "  [139 131 126]\n",
      "  ...\n",
      "  [ 96 101 135]\n",
      "  [ 87  78  29]\n",
      "  [ 84  73  94]]\n",
      "\n",
      " [[166 160 170]\n",
      "  [163 165 171]\n",
      "  [180 186 174]\n",
      "  ...\n",
      "  [ 42  67 101]\n",
      "  [122 133 136]\n",
      "  [139 142 144]]]\n"
     ]
    }
   ],
   "source": [
    "print(image[1])"
   ]
  },
  {
   "cell_type": "code",
   "execution_count": 66,
   "metadata": {},
   "outputs": [
    {
     "data": {
      "text/plain": [
       "<matplotlib.image.AxesImage at 0x7f983866b358>"
      ]
     },
     "execution_count": 66,
     "metadata": {},
     "output_type": "execute_result"
    },
    {
     "data": {
      "image/png": "[encoded data removed]",
      "text/plain": [
       "<matplotlib.figure.Figure at 0x7f9838647128>"
      ]
     },
     "metadata": {},
     "output_type": "display_data"
    }
   ],
   "source": [
    "imshow(image[1])"
   ]
  },
  {
   "cell_type": "code",
   "execution_count": 67,
   "metadata": {},
   "outputs": [],
   "source": [
    "def read_pickle_from_file(filename):\n",
    "  with tf.gfile.Open(filename, 'rb') as f:\n",
    "    data_dict = pickle.load(f, encoding='latin1')\n",
    "  return data_dict\n",
    "\n",
    "data_dict = read_pickle_from_file('../cifar10-data/cifar-10-batches-py/test_batch')"
   ]
  },
  {
   "cell_type": "code",
   "execution_count": 83,
   "metadata": {},
   "outputs": [],
   "source": [
    "data=data_dict['data']\n",
    "labels = data_dict['labels']\n",
    "               "
   ]
  },
  {
   "cell_type": "code",
   "execution_count": 84,
   "metadata": {},
   "outputs": [
    {
     "data": {
      "text/plain": [
       "3"
      ]
     },
     "execution_count": 84,
     "metadata": {},
     "output_type": "execute_result"
    }
   ],
   "source": [
    "labels[0]"
   ]
  },
  {
   "cell_type": "code",
   "execution_count": 74,
   "metadata": {},
   "outputs": [],
   "source": [
    "IMAGE_SHAPE = [3, 32,32]"
   ]
  },
  {
   "cell_type": "code",
   "execution_count": 92,
   "metadata": {},
   "outputs": [],
   "source": [
    "image = data[2]"
   ]
  },
  {
   "cell_type": "code",
   "execution_count": 93,
   "metadata": {},
   "outputs": [],
   "source": [
    "img = np.reshape(image, IMAGE_SHAPE)"
   ]
  },
  {
   "cell_type": "code",
   "execution_count": 94,
   "metadata": {},
   "outputs": [
    {
     "data": {
      "text/plain": [
       "(3, 32, 32)"
      ]
     },
     "execution_count": 94,
     "metadata": {},
     "output_type": "execute_result"
    }
   ],
   "source": [
    "img.shape"
   ]
  },
  {
   "cell_type": "code",
   "execution_count": 95,
   "metadata": {},
   "outputs": [
    {
     "data": {
      "text/plain": [
       "<matplotlib.image.AxesImage at 0x7f983366aac8>"
      ]
     },
     "execution_count": 95,
     "metadata": {},
     "output_type": "execute_result"
    },
    {
     "data": {
      "image/png": "[encoded data removed]",
      "text/plain": [
       "<matplotlib.figure.Figure at 0x7f9833695b70>"
      ]
     },
     "metadata": {},
     "output_type": "display_data"
    }
   ],
   "source": [
    "imshow(np.transpose(img, (1, 2, 0)), interpolation='nearest')"
   ]
  },
  {
   "cell_type": "code",
   "execution_count": null,
   "metadata": {},
   "outputs": [],
   "source": []
  }
 ],
 "metadata": {
  "kernelspec": {
   "display_name": "Python 3",
   "language": "python",
   "name": "python3"
  },
  "language_info": {
   "codemirror_mode": {
    "name": "ipython",
    "version": 3
   },
   "file_extension": ".py",
   "mimetype": "text/x-python",
   "name": "python",
   "nbconvert_exporter": "python",
   "pygments_lexer": "ipython3",
   "version": "3.5.4"
  }
 },
 "nbformat": 4,
 "nbformat_minor": 2
}
