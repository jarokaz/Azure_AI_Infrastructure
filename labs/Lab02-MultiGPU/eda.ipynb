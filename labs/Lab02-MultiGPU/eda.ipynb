{
 "cells": [
  {
   "cell_type": "code",
   "execution_count": 1,
   "metadata": {},
   "outputs": [
    {
     "name": "stderr",
     "output_type": "stream",
     "text": [
      "/anaconda/envs/py35/lib/python3.5/site-packages/h5py/__init__.py:36: FutureWarning: Conversion of the second argument of issubdtype from `float` to `np.floating` is deprecated. In future, it will be treated as `np.float64 == np.dtype(float).type`.\n",
      "  from ._conv import register_converters as _register_converters\n"
     ]
    }
   ],
   "source": [
    "import numpy as np\n",
    "import tensorflow as tf\n",
    "import matplotlib.pyplot as plt\n",
    "from matplotlib.pyplot import imshow\n",
    "import os\n",
    "\n",
    "%matplotlib inline"
   ]
  },
  {
   "cell_type": "code",
   "execution_count": 2,
   "metadata": {},
   "outputs": [],
   "source": [
    "data_dir = '../../data/tiny-imagenet'"
   ]
  },
  {
   "cell_type": "code",
   "execution_count": 3,
   "metadata": {},
   "outputs": [],
   "source": [
    "def parse(example_proto):\n",
    "  features = tf.parse_single_example(\n",
    "        example_proto,\n",
    "        features={\n",
    "            'image': tf.FixedLenFeature([], tf.string),\n",
    "            'label': tf.FixedLenFeature([], tf.int64),\n",
    "        })\n",
    "  image = tf.decode_raw(features['image'], tf.uint8)\n",
    "  image = tf.reshape(image, [64, 64, 3])\n",
    "  label = features['label']\n",
    "  return image, label"
   ]
  },
  {
   "cell_type": "code",
   "execution_count": 4,
   "metadata": {},
   "outputs": [],
   "source": [
    "def input_fn(data_dir, data_file):\n",
    "  dataset = tf.data.TFRecordDataset(os.path.join(data_dir, data_file)).repeat(1)\n",
    "  dataset = dataset.map(parse)\n",
    "  dataset = dataset.batch(2)\n",
    "  iterator = dataset.make_one_shot_iterator()\n",
    "  image, label = iterator.get_next()\n",
    "  return image, label\n"
   ]
  },
  {
   "cell_type": "code",
   "execution_count": 5,
   "metadata": {},
   "outputs": [],
   "source": [
    "with open(os.path.join(data_dir, 'labels.txt')) as f:\n",
    "    label_to_class = {int(line.split()[1]): line.split()[0] for line in f}\n",
    "with open(os.path.join(data_dir, 'tiny-imagenet-200/words.txt')) as f:\n",
    "    class_to_desc = {line.split()[0]: line.split()[1] for line in f}\n",
    "    "
   ]
  },
  {
   "cell_type": "code",
   "execution_count": 6,
   "metadata": {},
   "outputs": [
    {
     "data": {
      "text/plain": [
       "<matplotlib.figure.Figure at 0x7f2378b81860>"
      ]
     },
     "metadata": {},
     "output_type": "display_data"
    }
   ],
   "source": [
    "image, label = input_fn(data_dir, 'training_1.tfrecords')\n",
    "with tf.Session() as sess:\n",
    "    images, labels = sess.run([image, label])           \n",
    "\n",
    "figsize=(10, 8)\n",
    "fig, axis = plt.subplots(len(images)//3, 3, figsize=figsize)\n",
    "fig.tight_layout()\n",
    "for ax, image, label in zip(axis.flat[0:], images, labels):\n",
    "    ax.set_title(class_to_desc[label_to_class[label]])\n",
    "    ax.get_xaxis().set_visible(False)\n",
    "    ax.get_yaxis().set_visible(False)\n",
    "    ax.imshow(image)\n"
   ]
  },
  {
   "cell_type": "code",
   "execution_count": 7,
   "metadata": {},
   "outputs": [
    {
     "data": {
      "text/plain": [
       "<matplotlib.figure.Figure at 0x7f237981b8d0>"
      ]
     },
     "metadata": {},
     "output_type": "display_data"
    }
   ],
   "source": [
    "image, label = input_fn(data_dir, 'validation.tfrecords')\n",
    "with tf.Session() as sess:\n",
    "    images, labels = sess.run([image, label])           \n",
    "\n",
    "figsize=(10, 8)\n",
    "fig, axis = plt.subplots(len(images)//3, 3, figsize=figsize)\n",
    "fig.tight_layout()\n",
    "for ax, image, label in zip(axis.flat[0:], images, labels):\n",
    "    ax.set_title(class_to_desc[label_to_class[label]])\n",
    "    ax.get_xaxis().set_visible(False)\n",
    "    ax.get_yaxis().set_visible(False)\n",
    "    ax.imshow(image)\n"
   ]
  },
  {
   "cell_type": "code",
   "execution_count": null,
   "metadata": {},
   "outputs": [],
   "source": []
  }
 ],
 "metadata": {
  "kernelspec": {
   "display_name": "Python 3",
   "language": "python",
   "name": "python3"
  },
  "language_info": {
   "codemirror_mode": {
    "name": "ipython",
    "version": 3
   },
   "file_extension": ".py",
   "mimetype": "text/x-python",
   "name": "python",
   "nbconvert_exporter": "python",
   "pygments_lexer": "ipython3",
   "version": "3.5.4"
  }
 },
 "nbformat": 4,
 "nbformat_minor": 2
}
